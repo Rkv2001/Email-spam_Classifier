/*************I use Google Colab for this mini project. You can also refer to other's notebook *********/

import numpy as np
import pandas as pd
import matplotlib.pyplot as plt
import seaborn as sns

from google.colab import files
uploaded = files.upload()

df_sms = pd.read_csv('emailspamdatasetRk.csv',encoding='latin-1')
df_sms.head()

df_sms = df_sms.drop(["Unnamed: 2", "Unnamed: 3", "Unnamed: 4"], axis=1)
df_sms = df_sms.rename(columns={"r1":"Category", "r2":"SMS"})
df_sms.head()

df_sms.Category.value_counts()

df_sms['Labeling']= df_sms['Category'].map({'ham': 1, 'spam':0})
df_sms.head()

df_sms['length'] = df_sms['SMS'].apply(len)
df_sms.head()

import matplotlib.pyplot as plt
import seaborn as sns

%matplotlib inline
df_sms['length'].plot(bins=50, kind='hist')

df_sms.hist(column='length', by='Category', bins=50,figsize=(10,4))

import nltk

nltk.download('punkt')
nltk.download('stopwords')

nltk.download('stopwords')

from nltk.stem.porter import PorterStemmer
ps = PorterStemmer()

from nltk.corpus import stopwords

def transform_text(SMS):
    SMS = SMS.lower()
    SMS = nltk.word_tokenize(SMS)
    
    y = []
    for i in SMS:
        if i.isalnum():
            y.append(i)
    
    SMS = y[:]
    y.clear()
    
    for i in SMS:
        if i not in stopwords.words('english'):
            y.append(i)
            
    SMS = y[:]
    y.clear()
    
    for i in SMS:
        y.append(ps.stem(i))
    
            
    return " ".join(y)

df_sms['transformed_text'] = df_sms['SMS'].apply(transform_text)

df_sms.head()

from sklearn.feature_extraction.text import CountVectorizer,TfidfVectorizer
vector = CountVectorizer(stop_words ='english')
tfidf = TfidfVectorizer(max_features=3000)  #1

X = tfidf.fit_transform(df_sms['transformed_text']).toarray()

#X = df_sms['transformed_text']
Y = df_sms['Labeling']
from sklearn.model_selection import train_test_split as tt
X_train, X_test, Y_train, Y_test = tt(X, Y,test_size=0.2, random_state=100)

X_train.shape

X_test.shape

from sklearn.naive_bayes import MultinomialNB
model = MultinomialNB()
model.fit(X_train,Y_train)
y_pred = model.predict(X_test)
y_pred_prob = model.predict_proba(X_test)

from sklearn.metrics import confusion_matrix,accuracy_score,precision_score,recall_score,f1_score
print(confusion_matrix(Y_test,y_pred))
print()
print(accuracy_score(Y_test,y_pred))

input_sms=input("enter the message")
transformed_sms=transform_text(input_sms)
X_test_transformed=tfidf.transform([transformed_sms])
result=model.predict(X_test_transformed)[0]
if result==1:
  print("Ham")
else:
  print(" spam")
